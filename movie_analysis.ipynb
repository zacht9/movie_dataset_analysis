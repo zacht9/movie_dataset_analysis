{
 "cells": [
  {
   "cell_type": "markdown",
   "metadata": {
    "id": "y2MZurcV4Dqo"
   },
   "source": [
    "# Movie Dataset Analysis\n",
    "\n",
    "This is an exploratory analysis on a movie dataset. Fields include `Title`, `Genre`, `Stars`, `Runtime`, `Budget`, `Promo`, `Season`, `Rating`, the reviews of three reviewers, and a target variable of `Success` which tells if the film succeeded or not."
   ]
  },
  {
   "cell_type": "code",
   "execution_count": 2,
   "metadata": {
    "id": "pPlRDp5R1Di5"
   },
   "outputs": [],
   "source": [
    "import pandas as pd\n",
    "df = pd.read_csv(\"movie_data.csv\")"
   ]
  },
  {
   "cell_type": "markdown",
   "metadata": {
    "id": "yH21qcym6a03"
   },
   "source": [
    "# Data Cleaning\n",
    "\n",
    "I cleaned the following issues in the dataset:\n",
    "- *Extraordinarily large numbers in `Budget` column* -- I assumed that these extraordinarily large numbers all described the movie budget in dollars rather than millions of dollars. I detected these numbers by converting them to a string, and then matching them against a regex that detected 1-3 digits, followed by a period, followed by any number of digits. Anything that did not match I opted to fix, as I thought it was unreasonable for a movie to have a budget of over \\$1000M. I fixed these numbers by dividing them by a million and replacing the old value in the column with this. I chose to do this because after inspecting the numbers that did not match the regex, they seemed to be all in the millions, which led me to the first assumption.\n",
    "- *Zeroes in `Runtime` column* -- I used mean imputation to fix this. I calculated the mean across all entries in this series that were not 0, then replaced each 0 with it. I chose mean imputation because there were drawbacks to other methods. In the case of hot-deck imputation, each data row seemed too complex to find a separate row that was most similar to it. In the case of Bayesian imputation, Pandas does not have an easy way to implement this. Finally, since I assume the `Runtime` values are rounded versions of continuous data, median and mode do not seem like the most fitting measures of central tendency.\n",
    "- *Large numbers in `Stars` column* -- I used median imputation to fix this. I first used the Pandas `unique()` method to find each value present in this series, and it returned an array with the numbers 0-5 as well as 100. I then replaced each 100 with the median calculated from all of the other numbers. I chose median imputation because there were drawbacks to other methods. I opted not to use hot-deck nor Bayesian imputation for the same reasons outlined in the above bullet point, and I thought the median was the best measure of central tendency for this series because its data is ordinal rather than continuous or categorical."
   ]
  },
  {
   "cell_type": "code",
   "execution_count": 3,
   "metadata": {},
   "outputs": [],
   "source": [
    "# Fix 1: fixing extraordinarily large values in budget column\n",
    "import re\n",
    "def convert_to_millions(s):\n",
    "    match = re.search('^\\d{1,3}\\.\\d+$', str(s))\n",
    "    if not match:\n",
    "        # assume the current value is in dollars, not millions of dollars\n",
    "        return int(s)/1000000\n",
    "    else:\n",
    "        return s\n",
    "\n",
    "df[\"Budget\"] = df[\"Budget\"].apply(convert_to_millions)\n",
    "#print(df[\"Budget\"].max())"
   ]
  },
  {
   "cell_type": "code",
   "execution_count": 4,
   "metadata": {},
   "outputs": [],
   "source": [
    "# Fix 2: imputing 0's in runtime column with mean\n",
    "runtime_mean = round(df[df[\"Runtime\"] != 0][\"Runtime\"].mean())\n",
    "df[\"Runtime\"] = df[\"Runtime\"].replace({0: runtime_mean})"
   ]
  },
  {
   "cell_type": "code",
   "execution_count": 5,
   "metadata": {},
   "outputs": [],
   "source": [
    "# Fix 3: imputing extraordinarily large values in stars column with mean\n",
    "#print(df[\"Stars\"].unique())\n",
    "stars_median = round(df[df[\"Stars\"] != 100][\"Stars\"].median())\n",
    "df[\"Stars\"] = df[\"Stars\"].replace({100: stars_median})"
   ]
  },
  {
   "cell_type": "markdown",
   "metadata": {
    "id": "dHokHRPI66lw"
   },
   "source": [
    "# Data Exploration\n",
    "\n",
    "\n",
    "\n"
   ]
  },
  {
   "cell_type": "code",
   "execution_count": 6,
   "metadata": {
    "id": "XGZlyOBW65-B",
    "scrolled": true
   },
   "outputs": [
    {
     "data": {
      "text/html": [
       "<div>\n",
       "<style scoped>\n",
       "    .dataframe tbody tr th:only-of-type {\n",
       "        vertical-align: middle;\n",
       "    }\n",
       "\n",
       "    .dataframe tbody tr th {\n",
       "        vertical-align: top;\n",
       "    }\n",
       "\n",
       "    .dataframe thead th {\n",
       "        text-align: right;\n",
       "    }\n",
       "</style>\n",
       "<table border=\"1\" class=\"dataframe\">\n",
       "  <thead>\n",
       "    <tr style=\"text-align: right;\">\n",
       "      <th>Success</th>\n",
       "      <th>False</th>\n",
       "      <th>True</th>\n",
       "    </tr>\n",
       "    <tr>\n",
       "      <th>Season</th>\n",
       "      <th></th>\n",
       "      <th></th>\n",
       "    </tr>\n",
       "  </thead>\n",
       "  <tbody>\n",
       "    <tr>\n",
       "      <th>Fall</th>\n",
       "      <td>90</td>\n",
       "      <td>23</td>\n",
       "    </tr>\n",
       "    <tr>\n",
       "      <th>Spring</th>\n",
       "      <td>88</td>\n",
       "      <td>10</td>\n",
       "    </tr>\n",
       "    <tr>\n",
       "      <th>Summer</th>\n",
       "      <td>149</td>\n",
       "      <td>58</td>\n",
       "    </tr>\n",
       "    <tr>\n",
       "      <th>Winter</th>\n",
       "      <td>95</td>\n",
       "      <td>27</td>\n",
       "    </tr>\n",
       "  </tbody>\n",
       "</table>\n",
       "</div>"
      ],
      "text/plain": [
       "Success  False  True\n",
       "Season              \n",
       "Fall        90    23\n",
       "Spring      88    10\n",
       "Summer     149    58\n",
       "Winter      95    27"
      ]
     },
     "execution_count": 6,
     "metadata": {},
     "output_type": "execute_result"
    }
   ],
   "source": [
    "import scipy as sp\n",
    "crosstab = pd.crosstab(df['Season'], df['Success'])\n",
    "crosstab"
   ]
  },
  {
   "cell_type": "code",
   "execution_count": 7,
   "metadata": {},
   "outputs": [
    {
     "data": {
      "text/plain": [
       "0.005716268505111858"
      ]
     },
     "execution_count": 7,
     "metadata": {},
     "output_type": "execute_result"
    }
   ],
   "source": [
    "chi2_res = sp.stats.chi2_contingency(crosstab)\n",
    "chi2_res.pvalue"
   ]
  },
  {
   "cell_type": "markdown",
   "metadata": {
    "id": "OHbNovM57Lj7"
   },
   "source": [
    "Season has a statistically significant impact on a movie's success.\n",
    "**p-value:** $\\approx 0.006$"
   ]
  },
  {
   "cell_type": "code",
   "execution_count": 8,
   "metadata": {
    "id": "GtSbRZxOBeXC",
    "scrolled": true
   },
   "outputs": [
    {
     "data": {
      "text/html": [
       "<div>\n",
       "<style scoped>\n",
       "    .dataframe tbody tr th:only-of-type {\n",
       "        vertical-align: middle;\n",
       "    }\n",
       "\n",
       "    .dataframe tbody tr th {\n",
       "        vertical-align: top;\n",
       "    }\n",
       "\n",
       "    .dataframe thead th {\n",
       "        text-align: right;\n",
       "    }\n",
       "</style>\n",
       "<table border=\"1\" class=\"dataframe\">\n",
       "  <thead>\n",
       "    <tr style=\"text-align: right;\">\n",
       "      <th>Rating</th>\n",
       "      <th>PG</th>\n",
       "      <th>PG13</th>\n",
       "      <th>R</th>\n",
       "    </tr>\n",
       "    <tr>\n",
       "      <th>Season</th>\n",
       "      <th></th>\n",
       "      <th></th>\n",
       "      <th></th>\n",
       "    </tr>\n",
       "  </thead>\n",
       "  <tbody>\n",
       "    <tr>\n",
       "      <th>Fall</th>\n",
       "      <td>42</td>\n",
       "      <td>38</td>\n",
       "      <td>33</td>\n",
       "    </tr>\n",
       "    <tr>\n",
       "      <th>Spring</th>\n",
       "      <td>33</td>\n",
       "      <td>35</td>\n",
       "      <td>30</td>\n",
       "    </tr>\n",
       "    <tr>\n",
       "      <th>Summer</th>\n",
       "      <td>64</td>\n",
       "      <td>71</td>\n",
       "      <td>72</td>\n",
       "    </tr>\n",
       "    <tr>\n",
       "      <th>Winter</th>\n",
       "      <td>55</td>\n",
       "      <td>39</td>\n",
       "      <td>28</td>\n",
       "    </tr>\n",
       "  </tbody>\n",
       "</table>\n",
       "</div>"
      ],
      "text/plain": [
       "Rating  PG  PG13   R\n",
       "Season              \n",
       "Fall    42    38  33\n",
       "Spring  33    35  30\n",
       "Summer  64    71  72\n",
       "Winter  55    39  28"
      ]
     },
     "execution_count": 8,
     "metadata": {},
     "output_type": "execute_result"
    }
   ],
   "source": [
    "crosstab2 = pd.crosstab(df['Season'], df['Rating'])\n",
    "crosstab2"
   ]
  },
  {
   "cell_type": "code",
   "execution_count": 9,
   "metadata": {},
   "outputs": [
    {
     "data": {
      "text/plain": [
       "0.21507814500508263"
      ]
     },
     "execution_count": 9,
     "metadata": {},
     "output_type": "execute_result"
    }
   ],
   "source": [
    "chi2_res2 = sp.stats.chi2_contingency(crosstab2)\n",
    "chi2_res2.pvalue"
   ]
  },
  {
   "cell_type": "markdown",
   "metadata": {
    "id": "OM6_URSkBXDz"
   },
   "source": [
    "Seasons do not have statistically significant distributions of ratings. **p-value:** $\\approx 0.215$"
   ]
  },
  {
   "cell_type": "code",
   "execution_count": 10,
   "metadata": {},
   "outputs": [
    {
     "name": "stderr",
     "output_type": "stream",
     "text": [
      "[nltk_data] Downloading package vader_lexicon to\n",
      "[nltk_data]     /home/ltfx/nltk_data...\n",
      "[nltk_data]   Package vader_lexicon is already up-to-date!\n"
     ]
    },
    {
     "data": {
      "text/plain": [
       "True"
      ]
     },
     "execution_count": 10,
     "metadata": {},
     "output_type": "execute_result"
    }
   ],
   "source": [
    "import nltk\n",
    "from nltk.sentiment import SentimentIntensityAnalyzer\n",
    "nltk.download('vader_lexicon')"
   ]
  },
  {
   "cell_type": "code",
   "execution_count": 11,
   "metadata": {
    "id": "92CUkllO7Slx"
   },
   "outputs": [
    {
     "name": "stdout",
     "output_type": "stream",
     "text": [
      "R1: 0.5018518518518519\n",
      "R2: 0.38333333333333336\n",
      "R3: 0.32037037037037036\n"
     ]
    }
   ],
   "source": [
    "analyzer = SentimentIntensityAnalyzer()\n",
    "\n",
    "for reviewer in [\"R1\", \"R2\", \"R3\"]:\n",
    "    total_reviews, negative_reviews = 0, 0\n",
    "    for review in df[reviewer]:\n",
    "        total_reviews += 1\n",
    "        # return a dictionary with positive/negative/neutral elements of the sentence as judged by the nltk analyzer\n",
    "        # overall rating (between -1, 1) is tied to 'compound' key, use convention that < -0.05 is negative \n",
    "        # (> -0.05 and < 0.05 is neutral)\n",
    "        current_score = analyzer.polarity_scores(review)\n",
    "        if current_score[\"compound\"] < -0.05:\n",
    "            negative_reviews += 1\n",
    "    print(f\"{reviewer}: {negative_reviews/total_reviews}\")"
   ]
  },
  {
   "cell_type": "markdown",
   "metadata": {
    "id": "rbhSWWp37M2Z"
   },
   "source": [
    "Reviewer 1 is the harshest critic, with the highest percentage of negative reviews."
   ]
  },
  {
   "cell_type": "code",
   "execution_count": 12,
   "metadata": {
    "id": "9ZCJ4P-l7lrE"
   },
   "outputs": [
    {
     "data": {
      "text/plain": [
       "1907.0543229973102"
      ]
     },
     "execution_count": 12,
     "metadata": {},
     "output_type": "execute_result"
    }
   ],
   "source": [
    "promo = df[\"Promo\"]\n",
    "budget = df[\"Budget\"]\n",
    "promo.cov(budget)"
   ]
  },
  {
   "cell_type": "markdown",
   "metadata": {
    "id": "3H5DlS_E7S1u"
   },
   "source": [
    "Covariance between promotional budget and the filming budget: $\\approx 1907.05$"
   ]
  },
  {
   "cell_type": "markdown",
   "metadata": {
    "id": "eiTujTFw7orS"
   },
   "source": [
    "# Data Visualization"
   ]
  },
  {
   "cell_type": "markdown",
   "metadata": {
    "id": "e907N-i-7r5N"
   },
   "source": [
    "Visualizing the budget distribution based on the number of stars in the movie:"
   ]
  },
  {
   "cell_type": "code",
   "execution_count": 13,
   "metadata": {
    "id": "DZubydmS8eME",
    "scrolled": false
   },
   "outputs": [
    {
     "data": {
      "text/plain": [
       "Text(0.5, 1.0, 'Distribution of Movie Budgets by Number of Movie Stars')"
      ]
     },
     "execution_count": 13,
     "metadata": {},
     "output_type": "execute_result"
    },
    {
     "data": {
      "image/png": "[encoded data removed]",
      "text/plain": [
       "<Figure size 640x480 with 1 Axes>"
      ]
     },
     "metadata": {},
     "output_type": "display_data"
    }
   ],
   "source": [
    "import seaborn as sns\n",
    "stripplot = sns.stripplot(data=df, x=\"Stars\", y=\"Budget\", palette=\"crest\", hue=\"Stars\", legend=False)\n",
    "stripplot.set_title(\"Distribution of Movie Budgets by Number of Movie Stars\")"
   ]
  },
  {
   "cell_type": "markdown",
   "metadata": {
    "id": "tUut9r0u8eYu"
   },
   "source": [
    "Visualizing average movie budget over time:"
   ]
  },
  {
   "cell_type": "code",
   "execution_count": 14,
   "metadata": {
    "id": "ZG9Fc95v8qRf"
   },
   "outputs": [
    {
     "data": {
      "text/plain": [
       "Text(0, 0.5, 'Average budget (USD, millions)')"
      ]
     },
     "execution_count": 14,
     "metadata": {},
     "output_type": "execute_result"
    },
    {
     "data": {
      "image/png": "[encoded data removed]",
      "text/plain": [
       "<Figure size 640x480 with 1 Axes>"
      ]
     },
     "metadata": {},
     "output_type": "display_data"
    }
   ],
   "source": [
    "means = df.groupby('Year')['Budget'].mean()\n",
    "df2 = means.reset_index(name='Average budget')\n",
    "lineplot = sns.lineplot(data=df2, x=\"Year\", y=\"Average budget\")\n",
    "lineplot.set_title(\"Average movie budget per year over time\")\n",
    "lineplot.set_ylabel(\"Average budget (USD, millions)\")"
   ]
  },
  {
   "cell_type": "markdown",
   "metadata": {
    "id": "_UqUj1uy80Re"
   },
   "source": [
    "# Feature Engineering\n",
    "\n",
    "I did the following to the data in order to make the data easier for my model to analyze:\n",
    "- Added features to quantify how positive each of the reviewers' reviews for a given movie were. I named these features `R1 Positivity`, `R2 Positivity`, and `R3 Positivity`, and calculated them by using the `SentimentIntensityAnalyzer` object from the NLTK library.\n",
    "- Used one hot encoding on the `Genre` feature. `Genre` consists of purely categorical data which is hard for models to analyze, so I created 5 new columns corresponding to each genre and filled them with a 1 or 0 depending on if the movie was of that genre or not.\n",
    "- Converted the `Season` and `Rating` features to numbers. I thought both of these features had ordinal data since it's not continuous yet their possible values did fall into some sort of hierarchy. So, I elected to convert each value in `Season` to a number from 0-3 (0 representing winter, 1 representing spring, 2 representing summer, 3 representing fall) and each value in `Rating` to a number from 0-2 (0 representing PG, 1 representing PG13, 2 representing R)."
   ]
  },
  {
   "cell_type": "code",
   "execution_count": 15,
   "metadata": {
    "id": "zX9EeUKA9c5n"
   },
   "outputs": [
    {
     "data": {
      "text/html": [
       "<div>\n",
       "<style scoped>\n",
       "    .dataframe tbody tr th:only-of-type {\n",
       "        vertical-align: middle;\n",
       "    }\n",
       "\n",
       "    .dataframe tbody tr th {\n",
       "        vertical-align: top;\n",
       "    }\n",
       "\n",
       "    .dataframe thead th {\n",
       "        text-align: right;\n",
       "    }\n",
       "</style>\n",
       "<table border=\"1\" class=\"dataframe\">\n",
       "  <thead>\n",
       "    <tr style=\"text-align: right;\">\n",
       "      <th></th>\n",
       "      <th>Title</th>\n",
       "      <th>Runtime</th>\n",
       "      <th>Stars</th>\n",
       "      <th>Year</th>\n",
       "      <th>Budget</th>\n",
       "      <th>Promo</th>\n",
       "      <th>Season</th>\n",
       "      <th>Rating</th>\n",
       "      <th>R1 Positivity</th>\n",
       "      <th>R2 Positivity</th>\n",
       "      <th>R3 Positivity</th>\n",
       "      <th>Action</th>\n",
       "      <th>Drama</th>\n",
       "      <th>Fantasy</th>\n",
       "      <th>Romantic Comedy</th>\n",
       "      <th>Science fiction</th>\n",
       "      <th>Success</th>\n",
       "    </tr>\n",
       "  </thead>\n",
       "  <tbody>\n",
       "    <tr>\n",
       "      <th>0</th>\n",
       "      <td>\"Love in the Inbox\"</td>\n",
       "      <td>126</td>\n",
       "      <td>1</td>\n",
       "      <td>2020</td>\n",
       "      <td>66.793869</td>\n",
       "      <td>73.543754</td>\n",
       "      <td>0</td>\n",
       "      <td>0</td>\n",
       "      <td>-0.4588</td>\n",
       "      <td>0.0000</td>\n",
       "      <td>0.6249</td>\n",
       "      <td>0</td>\n",
       "      <td>0</td>\n",
       "      <td>0</td>\n",
       "      <td>1</td>\n",
       "      <td>0</td>\n",
       "      <td>False</td>\n",
       "    </tr>\n",
       "    <tr>\n",
       "      <th>1</th>\n",
       "      <td>\"Coffee Shop Serendipity\"</td>\n",
       "      <td>131</td>\n",
       "      <td>0</td>\n",
       "      <td>2020</td>\n",
       "      <td>46.678633</td>\n",
       "      <td>33.572003</td>\n",
       "      <td>3</td>\n",
       "      <td>0</td>\n",
       "      <td>-0.6249</td>\n",
       "      <td>0.6597</td>\n",
       "      <td>0.0000</td>\n",
       "      <td>0</td>\n",
       "      <td>0</td>\n",
       "      <td>0</td>\n",
       "      <td>1</td>\n",
       "      <td>0</td>\n",
       "      <td>False</td>\n",
       "    </tr>\n",
       "    <tr>\n",
       "      <th>2</th>\n",
       "      <td>\"The Wedding Date Dilemma\"</td>\n",
       "      <td>132</td>\n",
       "      <td>4</td>\n",
       "      <td>2000</td>\n",
       "      <td>36.391338</td>\n",
       "      <td>54.561523</td>\n",
       "      <td>2</td>\n",
       "      <td>0</td>\n",
       "      <td>0.0000</td>\n",
       "      <td>0.0000</td>\n",
       "      <td>0.4767</td>\n",
       "      <td>0</td>\n",
       "      <td>0</td>\n",
       "      <td>0</td>\n",
       "      <td>1</td>\n",
       "      <td>0</td>\n",
       "      <td>False</td>\n",
       "    </tr>\n",
       "    <tr>\n",
       "      <th>3</th>\n",
       "      <td>\"Heartstrings and Highways\"</td>\n",
       "      <td>132</td>\n",
       "      <td>1</td>\n",
       "      <td>2015</td>\n",
       "      <td>93.247317</td>\n",
       "      <td>59.714535</td>\n",
       "      <td>0</td>\n",
       "      <td>1</td>\n",
       "      <td>-0.6249</td>\n",
       "      <td>0.5719</td>\n",
       "      <td>0.0000</td>\n",
       "      <td>0</td>\n",
       "      <td>0</td>\n",
       "      <td>0</td>\n",
       "      <td>1</td>\n",
       "      <td>0</td>\n",
       "      <td>False</td>\n",
       "    </tr>\n",
       "    <tr>\n",
       "      <th>4</th>\n",
       "      <td>\"Falling for Cupid\"</td>\n",
       "      <td>119</td>\n",
       "      <td>1</td>\n",
       "      <td>2015</td>\n",
       "      <td>92.130207</td>\n",
       "      <td>67.643810</td>\n",
       "      <td>3</td>\n",
       "      <td>1</td>\n",
       "      <td>-0.2263</td>\n",
       "      <td>0.5574</td>\n",
       "      <td>0.0000</td>\n",
       "      <td>0</td>\n",
       "      <td>0</td>\n",
       "      <td>0</td>\n",
       "      <td>1</td>\n",
       "      <td>0</td>\n",
       "      <td>False</td>\n",
       "    </tr>\n",
       "    <tr>\n",
       "      <th>...</th>\n",
       "      <td>...</td>\n",
       "      <td>...</td>\n",
       "      <td>...</td>\n",
       "      <td>...</td>\n",
       "      <td>...</td>\n",
       "      <td>...</td>\n",
       "      <td>...</td>\n",
       "      <td>...</td>\n",
       "      <td>...</td>\n",
       "      <td>...</td>\n",
       "      <td>...</td>\n",
       "      <td>...</td>\n",
       "      <td>...</td>\n",
       "      <td>...</td>\n",
       "      <td>...</td>\n",
       "      <td>...</td>\n",
       "      <td>...</td>\n",
       "    </tr>\n",
       "    <tr>\n",
       "      <th>535</th>\n",
       "      <td>\"Shadow Strike\"</td>\n",
       "      <td>128</td>\n",
       "      <td>3</td>\n",
       "      <td>2021</td>\n",
       "      <td>64.897017</td>\n",
       "      <td>91.445593</td>\n",
       "      <td>3</td>\n",
       "      <td>0</td>\n",
       "      <td>-0.6908</td>\n",
       "      <td>0.0000</td>\n",
       "      <td>-0.1779</td>\n",
       "      <td>1</td>\n",
       "      <td>0</td>\n",
       "      <td>0</td>\n",
       "      <td>0</td>\n",
       "      <td>0</td>\n",
       "      <td>False</td>\n",
       "    </tr>\n",
       "    <tr>\n",
       "      <th>536</th>\n",
       "      <td>\"Riot Protocol\"</td>\n",
       "      <td>123</td>\n",
       "      <td>1</td>\n",
       "      <td>2018</td>\n",
       "      <td>30.989354</td>\n",
       "      <td>46.045408</td>\n",
       "      <td>2</td>\n",
       "      <td>2</td>\n",
       "      <td>0.0000</td>\n",
       "      <td>0.0000</td>\n",
       "      <td>0.0000</td>\n",
       "      <td>1</td>\n",
       "      <td>0</td>\n",
       "      <td>0</td>\n",
       "      <td>0</td>\n",
       "      <td>0</td>\n",
       "      <td>True</td>\n",
       "    </tr>\n",
       "    <tr>\n",
       "      <th>537</th>\n",
       "      <td>\"Deadlock Vendetta\"</td>\n",
       "      <td>121</td>\n",
       "      <td>1</td>\n",
       "      <td>2003</td>\n",
       "      <td>48.572549</td>\n",
       "      <td>63.660912</td>\n",
       "      <td>2</td>\n",
       "      <td>0</td>\n",
       "      <td>-0.3182</td>\n",
       "      <td>-0.1027</td>\n",
       "      <td>-0.5423</td>\n",
       "      <td>1</td>\n",
       "      <td>0</td>\n",
       "      <td>0</td>\n",
       "      <td>0</td>\n",
       "      <td>0</td>\n",
       "      <td>False</td>\n",
       "    </tr>\n",
       "    <tr>\n",
       "      <th>538</th>\n",
       "      <td>\"Blade Runner Protocol\"</td>\n",
       "      <td>124</td>\n",
       "      <td>1</td>\n",
       "      <td>2007</td>\n",
       "      <td>136.468170</td>\n",
       "      <td>188.513344</td>\n",
       "      <td>2</td>\n",
       "      <td>2</td>\n",
       "      <td>0.0000</td>\n",
       "      <td>0.1531</td>\n",
       "      <td>0.4767</td>\n",
       "      <td>1</td>\n",
       "      <td>0</td>\n",
       "      <td>0</td>\n",
       "      <td>0</td>\n",
       "      <td>0</td>\n",
       "      <td>True</td>\n",
       "    </tr>\n",
       "    <tr>\n",
       "      <th>539</th>\n",
       "      <td>\"Eagle Eye Blitz\"</td>\n",
       "      <td>126</td>\n",
       "      <td>0</td>\n",
       "      <td>2022</td>\n",
       "      <td>127.615627</td>\n",
       "      <td>158.496055</td>\n",
       "      <td>2</td>\n",
       "      <td>0</td>\n",
       "      <td>0.0000</td>\n",
       "      <td>0.0516</td>\n",
       "      <td>0.5574</td>\n",
       "      <td>1</td>\n",
       "      <td>0</td>\n",
       "      <td>0</td>\n",
       "      <td>0</td>\n",
       "      <td>0</td>\n",
       "      <td>True</td>\n",
       "    </tr>\n",
       "  </tbody>\n",
       "</table>\n",
       "<p>540 rows × 17 columns</p>\n",
       "</div>"
      ],
      "text/plain": [
       "                           Title  Runtime  Stars  Year      Budget  \\\n",
       "0            \"Love in the Inbox\"      126      1  2020   66.793869   \n",
       "1      \"Coffee Shop Serendipity\"      131      0  2020   46.678633   \n",
       "2     \"The Wedding Date Dilemma\"      132      4  2000   36.391338   \n",
       "3    \"Heartstrings and Highways\"      132      1  2015   93.247317   \n",
       "4            \"Falling for Cupid\"      119      1  2015   92.130207   \n",
       "..                           ...      ...    ...   ...         ...   \n",
       "535              \"Shadow Strike\"      128      3  2021   64.897017   \n",
       "536              \"Riot Protocol\"      123      1  2018   30.989354   \n",
       "537          \"Deadlock Vendetta\"      121      1  2003   48.572549   \n",
       "538      \"Blade Runner Protocol\"      124      1  2007  136.468170   \n",
       "539            \"Eagle Eye Blitz\"      126      0  2022  127.615627   \n",
       "\n",
       "          Promo  Season  Rating  R1 Positivity  R2 Positivity  R3 Positivity  \\\n",
       "0     73.543754       0       0        -0.4588         0.0000         0.6249   \n",
       "1     33.572003       3       0        -0.6249         0.6597         0.0000   \n",
       "2     54.561523       2       0         0.0000         0.0000         0.4767   \n",
       "3     59.714535       0       1        -0.6249         0.5719         0.0000   \n",
       "4     67.643810       3       1        -0.2263         0.5574         0.0000   \n",
       "..          ...     ...     ...            ...            ...            ...   \n",
       "535   91.445593       3       0        -0.6908         0.0000        -0.1779   \n",
       "536   46.045408       2       2         0.0000         0.0000         0.0000   \n",
       "537   63.660912       2       0        -0.3182        -0.1027        -0.5423   \n",
       "538  188.513344       2       2         0.0000         0.1531         0.4767   \n",
       "539  158.496055       2       0         0.0000         0.0516         0.5574   \n",
       "\n",
       "     Action  Drama  Fantasy  Romantic Comedy  Science fiction  Success  \n",
       "0         0      0        0                1                0    False  \n",
       "1         0      0        0                1                0    False  \n",
       "2         0      0        0                1                0    False  \n",
       "3         0      0        0                1                0    False  \n",
       "4         0      0        0                1                0    False  \n",
       "..      ...    ...      ...              ...              ...      ...  \n",
       "535       1      0        0                0                0    False  \n",
       "536       1      0        0                0                0     True  \n",
       "537       1      0        0                0                0    False  \n",
       "538       1      0        0                0                0     True  \n",
       "539       1      0        0                0                0     True  \n",
       "\n",
       "[540 rows x 17 columns]"
      ]
     },
     "execution_count": 15,
     "metadata": {},
     "output_type": "execute_result"
    }
   ],
   "source": [
    "# convert reviews to new features that list the overall positive rate (compound from nltk)\n",
    "analyzer = SentimentIntensityAnalyzer()\n",
    "def analyze_review(s):\n",
    "    scores = analyzer.polarity_scores(s)\n",
    "    return scores[\"compound\"]\n",
    "df3 = df.copy(deep=True)\n",
    "df3[\"R1 Positivity\"] = df[\"R1\"].apply(analyze_review)\n",
    "df3[\"R2 Positivity\"] = df[\"R2\"].apply(analyze_review)\n",
    "df3[\"R3 Positivity\"] = df[\"R3\"].apply(analyze_review)\n",
    "\n",
    "# transform genre using one hot encoding\n",
    "df3 = pd.merge(df3, pd.get_dummies(df[\"Genre\"]), left_index=True, right_index=True)\n",
    "\n",
    "# convert season and rating to 0-3 or 0-2 scale, respectively\n",
    "def convert_season(s):\n",
    "    seasons = [\"Winter\", \"Spring\", \"Summer\", \"Fall\"]\n",
    "    try:\n",
    "        return seasons.index(s)\n",
    "    except ValueError as ve:\n",
    "        return None\n",
    "\n",
    "def convert_rating(s):\n",
    "    ratings = [\"PG\", \"PG13\", \"R\"]\n",
    "    try:\n",
    "        return ratings.index(s)\n",
    "    except ValueError as ve:\n",
    "        return None\n",
    "\n",
    "df3[\"Season\"] = df3[\"Season\"].apply(convert_season)\n",
    "df3[\"Rating\"] = df3[\"Rating\"].apply(convert_rating)\n",
    "\n",
    "df3 = df3.drop([\"Unnamed: 0\", \"Genre\", \"R1\", \"R2\", \"R3\"], axis=1)\n",
    "# rearranging columns\n",
    "cols = df3.columns.tolist()\n",
    "cols.remove(\"Success\")\n",
    "cols.append(\"Success\")\n",
    "df3 = df3[cols]\n",
    "df3"
   ]
  },
  {
   "cell_type": "markdown",
   "metadata": {
    "id": "bj3Rdh229dLW"
   },
   "source": [
    "# Modeling\n",
    "\n",
    "Using a random forest ML model to predict whether or not a film is a success or a flop based on the training data."
   ]
  },
  {
   "cell_type": "code",
   "execution_count": 16,
   "metadata": {
    "id": "b-adaG_K9mIz"
   },
   "outputs": [],
   "source": [
    "from sklearn.ensemble import RandomForestClassifier\n",
    "clf = RandomForestClassifier(random_state=0)"
   ]
  },
  {
   "cell_type": "markdown",
   "metadata": {
    "id": "GY8VzL3J9mUi"
   },
   "source": [
    "# Testing"
   ]
  },
  {
   "cell_type": "markdown",
   "metadata": {
    "id": "ZeLtWCur9p7x"
   },
   "source": [
    "Shuffling data and splitting 90% of it into a training set and the other 10% into a testing set.\n",
    "**Model accuracy:** $87.03\\%$"
   ]
  },
  {
   "cell_type": "code",
   "execution_count": 18,
   "metadata": {
    "id": "D4TIzTVT9o59"
   },
   "outputs": [
    {
     "name": "stdout",
     "output_type": "stream",
     "text": [
      "0.8518518518518519\n"
     ]
    }
   ],
   "source": [
    "from sklearn.model_selection import train_test_split\n",
    "\n",
    "df_shuffle = df3.sample(frac=1)\n",
    "df_train, df_test = train_test_split(df_shuffle, test_size=0.1)\n",
    "clf.fit(df_train.iloc[:, 1:16], df_train[\"Success\"])\n",
    "res = clf.predict(df_test.iloc[:, 1:16])\n",
    "\n",
    "correct, total = 0,0\n",
    "for i,x in enumerate(res):\n",
    "    total += 1\n",
    "    if x == df_test.iloc[i, 16]:\n",
    "        correct += 1\n",
    "print(correct/total)"
   ]
  },
  {
   "cell_type": "markdown",
   "metadata": {
    "id": "qHtRp8Ip9qAW"
   },
   "source": [
    "Model confusion matrix:\n",
    "\n",
    "**False negative rate:** $\\frac{7}{50} = 14\\%$\n",
    "**False positive rate:** $\\frac{1}{4} = 25\\%$"
   ]
  },
  {
   "cell_type": "code",
   "execution_count": 19,
   "metadata": {
    "id": "8-sgv2Ix_Adj",
    "scrolled": true
   },
   "outputs": [
    {
     "data": {
      "text/html": [
       "<div>\n",
       "<style scoped>\n",
       "    .dataframe tbody tr th:only-of-type {\n",
       "        vertical-align: middle;\n",
       "    }\n",
       "\n",
       "    .dataframe tbody tr th {\n",
       "        vertical-align: top;\n",
       "    }\n",
       "\n",
       "    .dataframe thead th {\n",
       "        text-align: right;\n",
       "    }\n",
       "</style>\n",
       "<table border=\"1\" class=\"dataframe\">\n",
       "  <thead>\n",
       "    <tr style=\"text-align: right;\">\n",
       "      <th>Predicted</th>\n",
       "      <th>False</th>\n",
       "      <th>True</th>\n",
       "    </tr>\n",
       "    <tr>\n",
       "      <th>Actual</th>\n",
       "      <th></th>\n",
       "      <th></th>\n",
       "    </tr>\n",
       "  </thead>\n",
       "  <tbody>\n",
       "    <tr>\n",
       "      <th>False</th>\n",
       "      <td>42</td>\n",
       "      <td>0</td>\n",
       "    </tr>\n",
       "    <tr>\n",
       "      <th>True</th>\n",
       "      <td>8</td>\n",
       "      <td>4</td>\n",
       "    </tr>\n",
       "  </tbody>\n",
       "</table>\n",
       "</div>"
      ],
      "text/plain": [
       "Predicted  False  True\n",
       "Actual                \n",
       "False         42     0\n",
       "True           8     4"
      ]
     },
     "execution_count": 19,
     "metadata": {},
     "output_type": "execute_result"
    }
   ],
   "source": [
    "success_real = pd.Series(df_test.iloc[:, 16], name=\"Actual\").reset_index(drop=True)\n",
    "success_predicted = pd.Series(res, name=\"Predicted\")\n",
    "confusion_matrix = pd.crosstab(success_real, success_predicted)\n",
    "confusion_matrix"
   ]
  },
  {
   "cell_type": "markdown",
   "metadata": {
    "id": "VdxaHXn5_Jt_"
   },
   "source": [
    "**Most important feature in the model:** *R1 Positivity*, a custom feature that describes how positive Reviewer 1's review was judged to be by the NLTK library's `SentimentIntensityAnalyzer.polarity_scores()` method.\n"
   ]
  },
  {
   "cell_type": "code",
   "execution_count": 20,
   "metadata": {
    "id": "fTgKIBvV_swo"
   },
   "outputs": [
    {
     "data": {
      "text/plain": [
       "Runtime            0.096179\n",
       "Stars              0.089215\n",
       "Year               0.075124\n",
       "Budget             0.130806\n",
       "Promo              0.118958\n",
       "Season             0.034816\n",
       "Rating             0.034841\n",
       "R1 Positivity      0.203190\n",
       "R2 Positivity      0.086918\n",
       "R3 Positivity      0.075051\n",
       "Action             0.023163\n",
       "Drama              0.012594\n",
       "Fantasy            0.004509\n",
       "Romantic Comedy    0.010797\n",
       "Science fiction    0.003838\n",
       "dtype: float64"
      ]
     },
     "execution_count": 20,
     "metadata": {},
     "output_type": "execute_result"
    }
   ],
   "source": [
    "importances = pd.Series(clf.feature_importances_, index=df3.columns[1:16])\n",
    "importances"
   ]
  }
 ],
 "metadata": {
  "colab": {
   "provenance": []
  },
  "kernelspec": {
   "display_name": "Python 3 (ipykernel)",
   "language": "python",
   "name": "python3"
  },
  "language_info": {
   "codemirror_mode": {
    "name": "ipython",
    "version": 3
   },
   "file_extension": ".py",
   "mimetype": "text/x-python",
   "name": "python",
   "nbconvert_exporter": "python",
   "pygments_lexer": "ipython3",
   "version": "3.8.10"
  }
 },
 "nbformat": 4,
 "nbformat_minor": 1
}
